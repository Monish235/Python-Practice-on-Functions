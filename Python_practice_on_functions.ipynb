{
 "cells": [
  {
   "cell_type": "markdown",
   "id": "0638a5a4",
   "metadata": {},
   "source": [
    "### 1. Write a function that inputs a number and prints the multiplication table of that number"
   ]
  },
  {
   "cell_type": "code",
   "execution_count": 171,
   "id": "9f39d740",
   "metadata": {},
   "outputs": [
    {
     "name": "stdout",
     "output_type": "stream",
     "text": [
      "Enter the number for printing the table: 10\n",
      "10 * 1 = 10\n",
      "10 * 2 = 20\n",
      "10 * 3 = 30\n",
      "10 * 4 = 40\n",
      "10 * 5 = 50\n",
      "10 * 6 = 60\n",
      "10 * 7 = 70\n",
      "10 * 8 = 80\n",
      "10 * 9 = 90\n",
      "10 * 10 = 100\n",
      "10 * 11 = 110\n",
      "10 * 12 = 120\n"
     ]
    }
   ],
   "source": [
    "def multiplication_table(n):\n",
    "    for i in range(1,13):\n",
    "        print('{} * {} = {}'.format(n,i,n*i))\n",
    "\n",
    "n=int(input('Enter the number for printing the table: '))\n",
    "multiplication_table(n)"
   ]
  },
  {
   "cell_type": "markdown",
   "id": "aafec665",
   "metadata": {},
   "source": [
    "### 2. Write a program to print twin primes less than 1000. If two consecutive odd numbers are both prime then they are known as twin primes"
   ]
  },
  {
   "cell_type": "code",
   "execution_count": 176,
   "id": "1d842154",
   "metadata": {},
   "outputs": [
    {
     "name": "stdout",
     "output_type": "stream",
     "text": [
      "3 and 5\n",
      "5 and 7\n",
      "11 and 13\n",
      "17 and 19\n",
      "29 and 31\n",
      "41 and 43\n",
      "59 and 61\n",
      "71 and 73\n",
      "101 and 103\n",
      "107 and 109\n",
      "137 and 139\n",
      "149 and 151\n",
      "179 and 181\n",
      "191 and 193\n",
      "197 and 199\n",
      "227 and 229\n",
      "239 and 241\n",
      "269 and 271\n",
      "281 and 283\n",
      "311 and 313\n",
      "347 and 349\n",
      "419 and 421\n",
      "431 and 433\n",
      "461 and 463\n",
      "521 and 523\n",
      "569 and 571\n",
      "599 and 601\n",
      "617 and 619\n",
      "641 and 643\n",
      "659 and 661\n",
      "809 and 811\n",
      "821 and 823\n",
      "827 and 829\n",
      "857 and 859\n",
      "881 and 883\n"
     ]
    }
   ],
   "source": [
    "#Creating function return if a number is prime are not (True/False)\n",
    "def prime(n):\n",
    "    for i in range(2,n):\n",
    "        if n%i==0:\n",
    "            return False\n",
    "    else: \n",
    "        return True\n",
    "\n",
    "#Function to find twin prime\n",
    "def twin_prime(num):  \n",
    "    for i in range(2,num):\n",
    "        if prime(i) and prime(i+2):\n",
    "            print(i,'and',i+2)\n",
    "\n",
    "twin_prime(1000)           "
   ]
  },
  {
   "cell_type": "markdown",
   "id": "0ad6a2fa",
   "metadata": {},
   "source": [
    "### 3. Write a program to find out the prime factor of a number. Example: prime factors of 56 - 2,2,2,7"
   ]
  },
  {
   "cell_type": "code",
   "execution_count": 178,
   "id": "b10ae5a4",
   "metadata": {},
   "outputs": [
    {
     "data": {
      "text/plain": [
       "[2, 2, 3, 7, 13]"
      ]
     },
     "execution_count": 178,
     "metadata": {},
     "output_type": "execute_result"
    }
   ],
   "source": [
    "def prime_factor(num):\n",
    "    if prime(num) is True:\n",
    "        return [num] \n",
    "\n",
    "    for i in range(2,num):\n",
    "        if num%i==0:\n",
    "            q=round(num/i)\n",
    "            break\n",
    "    t=prime_factor(q)\n",
    "    t.insert(0,i)\n",
    "    return t\n",
    "\n",
    "\n",
    "prime_factor(1092)"
   ]
  },
  {
   "cell_type": "markdown",
   "id": "504656c0",
   "metadata": {},
   "source": [
    "### 4. Write a program to implement these formulae of permutation and combinations. Number of permutations of n objects taken r at a time: p(n,r) =n!/(n-r)!. Number of combinations of n objects taken r at a time is: c(n,r) = n!/(r!*(n-r)!)=p(n,r)/r!"
   ]
  },
  {
   "cell_type": "code",
   "execution_count": 179,
   "id": "7da3abdc",
   "metadata": {},
   "outputs": [
    {
     "name": "stdout",
     "output_type": "stream",
     "text": [
      "120.0\n",
      "36.0\n"
     ]
    }
   ],
   "source": [
    "def factorial(n):\n",
    "    if n==1:\n",
    "        return n\n",
    "    else:\n",
    "        return n*factorial(n-1)\n",
    "\n",
    "def permutation(n,r):\n",
    "    return factorial(n)/factorial(n-r)\n",
    "\n",
    "def combination(n,r):\n",
    "    return permutation(n,r)/factorial(r)\n",
    "\n",
    "print(permutation(6,3))\n",
    "print(combination(9,2))   "
   ]
  },
  {
   "cell_type": "markdown",
   "id": "75237218",
   "metadata": {},
   "source": [
    "### 5. Write a function that converts a decimal number to binary number\n",
    "\n",
    "https://www.vedantu.com/maths/decimal-to-binary"
   ]
  },
  {
   "cell_type": "code",
   "execution_count": 180,
   "id": "40bbd90c",
   "metadata": {},
   "outputs": [
    {
     "data": {
      "text/plain": [
       "11110100"
      ]
     },
     "execution_count": 180,
     "metadata": {},
     "output_type": "execute_result"
    }
   ],
   "source": [
    "def binary_number(n):\n",
    "    k=''\n",
    "    while n>0:\n",
    "        r=n//2\n",
    "        if 2*r==n:\n",
    "            k+='0'\n",
    "        else:\n",
    "            k+='1'\n",
    "        n=r\n",
    "    k=k[::-1]\n",
    "    return int(k)\n",
    "    \n",
    "binary_number(244)"
   ]
  },
  {
   "cell_type": "markdown",
   "id": "0f71be6c",
   "metadata": {},
   "source": [
    "### 6. Write a function cubesum() that accepts an integer and returns the sum of the cubes of individual digits of that number. Use this function to make functions PrintArmstrong() and isArmstrong() to print Armstrong numbers and to find whether is an Armstrong number.\n",
    "\n",
    "https://pages.mtu.edu/~shene/COURSES/cs201/NOTES/chap04/arms.html#:~:text=An%20Armstrong%20number%20of%20three,%2B%201**3%20%3D%20371.\n",
    "\n",
    "https://www.geeksforgeeks.org/find-first-last-digits-number/"
   ]
  },
  {
   "cell_type": "code",
   "execution_count": 181,
   "id": "a88679cf",
   "metadata": {},
   "outputs": [
    {
     "name": "stdout",
     "output_type": "stream",
     "text": [
      "153\n",
      "370\n",
      "371\n",
      "407\n"
     ]
    },
    {
     "data": {
      "text/plain": [
       "True"
      ]
     },
     "execution_count": 181,
     "metadata": {},
     "output_type": "execute_result"
    }
   ],
   "source": [
    "def cube_sum(num):\n",
    "    sum_=0\n",
    "    while num>0:\n",
    "        last=num%10\n",
    "        sum_=sum_+(last**3)\n",
    "        num=num//10\n",
    "        \n",
    "    return sum_\n",
    "\n",
    "#since the question is explicitly asking to use the fucntion cubesum in other function, \n",
    "#only three digit armstrong numbers  are possible\n",
    "\n",
    "def PrintArmstrong(n):\n",
    "    for i in range(100,n):\n",
    "        if cube_sum(i)==i:\n",
    "            print(i)\n",
    "            \n",
    "def isArmstrong(n):\n",
    "    if cube_sum(n)==n:\n",
    "        return True\n",
    "    else:\n",
    "        return False\n",
    "\n",
    "PrintArmstrong(1000)\n",
    "isArmstrong(371)"
   ]
  },
  {
   "cell_type": "markdown",
   "id": "e4d52901",
   "metadata": {},
   "source": [
    "### 7. Write a function prodDigits() that inputs a number and returns the product of digits of that number "
   ]
  },
  {
   "cell_type": "code",
   "execution_count": 182,
   "id": "f7721a82",
   "metadata": {},
   "outputs": [
    {
     "data": {
      "text/plain": [
       "120"
      ]
     },
     "execution_count": 182,
     "metadata": {},
     "output_type": "execute_result"
    }
   ],
   "source": [
    "def prodDigits(n):\n",
    "    product=1\n",
    "    while n>0:\n",
    "        last = n%10\n",
    "        product=product*last\n",
    "        n=n//10\n",
    "    return product\n",
    "\n",
    "prodDigits(12345)"
   ]
  },
  {
   "cell_type": "markdown",
   "id": "e8ad5641",
   "metadata": {},
   "source": [
    "### 8. If all digits of a number n are multiplied by each other repeating with the product, the one digit number obtained at last is called the multicaptive digital root of n. The number of times digit need to be multiplied to reach one digit is called the multicaptive persistance of n.\n",
    "Example: 86->48->32->6 (MDR 6,MPersistance 3)\n",
    "         341->12->2    (MDR 2,MPersistance 2)\n",
    "      "
   ]
  },
  {
   "cell_type": "code",
   "execution_count": 183,
   "id": "d37e11ac",
   "metadata": {},
   "outputs": [
    {
     "name": "stdout",
     "output_type": "stream",
     "text": [
      "MDR 6 , MPersistance 3\n",
      "MDR 2 , MPersistance 2\n"
     ]
    }
   ],
   "source": [
    "def product_Of_int(num):\n",
    "    n=num\n",
    "    p=1\n",
    "    while n>0:\n",
    "        last=n%10\n",
    "        p*=last\n",
    "        n=n//10\n",
    "        \n",
    "    return p\n",
    "\n",
    "\n",
    "def MDR(num):\n",
    "    \n",
    "    n=num\n",
    "    c=0\n",
    "    while n>=10:\n",
    "        r=product_Of_int(n)\n",
    "        c+=1\n",
    "        n=r\n",
    "        \n",
    "    print('MDR {} , MPersistance {}'.format(n,c))\n",
    "    \n",
    "    \n",
    "MDR(86) \n",
    "MDR(341)   "
   ]
  },
  {
   "cell_type": "markdown",
   "id": "e912e897",
   "metadata": {},
   "source": [
    "### 9. Write a function sumPdivisor() that finds the sum of proper divisor of a number. Proper divisor of a number are those numbers by which the number is divisible, except the number itself. For example proper divisor of 36 are 1,2,3,4,6,9,18 "
   ]
  },
  {
   "cell_type": "code",
   "execution_count": 184,
   "id": "1751ab91",
   "metadata": {},
   "outputs": [
    {
     "name": "stdout",
     "output_type": "stream",
     "text": [
      "[1, 2, 3, 4, 6, 9, 12, 18]\n"
     ]
    },
    {
     "data": {
      "text/plain": [
       "55"
      ]
     },
     "execution_count": 184,
     "metadata": {},
     "output_type": "execute_result"
    }
   ],
   "source": [
    "def sumPdivisor(n):\n",
    "    r=0\n",
    "    l=[]\n",
    "    for i in range(1,n):\n",
    "        if n%i==0:\n",
    "            r+=i\n",
    "            l.append(i)\n",
    "    print(l)\n",
    "    return r\n",
    "            \n",
    "sumPdivisor(36)    "
   ]
  },
  {
   "cell_type": "markdown",
   "id": "b77c3d6d",
   "metadata": {},
   "source": [
    "### 10. A number is called perfect if the sum of proper divisor of that number is equal to the number. For example 28 is perfect number, since 1+2+4+7+14=28. Write a program to print all the perfect numbers in given range."
   ]
  },
  {
   "cell_type": "code",
   "execution_count": 185,
   "id": "2c048f9b",
   "metadata": {},
   "outputs": [
    {
     "name": "stdout",
     "output_type": "stream",
     "text": [
      "6\n",
      "28\n",
      "496\n"
     ]
    }
   ],
   "source": [
    "def sumPdivisor(n):\n",
    "    r=0\n",
    "    for i in range(1,n):\n",
    "        if n%i==0:\n",
    "            r+=i\n",
    "    return r\n",
    "\n",
    "def print_perfect_num(s,e):\n",
    "    for i in range(s,e+1):\n",
    "        if i==sumPdivisor(i):\n",
    "            print(i)\n",
    "            \n",
    "print_perfect_num(1,1000)"
   ]
  },
  {
   "cell_type": "markdown",
   "id": "61070907",
   "metadata": {},
   "source": [
    "### 11. Two different numbers are called amicable numbers if the sum of the proper divisors of each is equal to the other number. For example 220 and 284 are amicable numbers.  Sum of proper divisors of 220 = 1+2+4+5+10+11+20+22+44+55+110 = 284 Sum of proper divisors of 284 = 1+2+4+71+142 = 220"
   ]
  },
  {
   "cell_type": "code",
   "execution_count": 186,
   "id": "f1fc5534",
   "metadata": {},
   "outputs": [
    {
     "name": "stdout",
     "output_type": "stream",
     "text": [
      "220 284\n",
      "1184 1210\n",
      "2620 2924\n",
      "5020 5564\n",
      "6232 6368\n"
     ]
    }
   ],
   "source": [
    "def amicable_numbers(s,e):\n",
    "    \n",
    "    r=list()\n",
    "    \n",
    "    for i in range(s,e+1):\n",
    "        r.append([i,sumPdivisor(i)])\n",
    "        \n",
    "    #print(r)    \n",
    "    k=r\n",
    "    l=[]\n",
    "    for i in r:\n",
    "        for j in k:\n",
    "            if i[0]==j[1] and j[0]==i[1] and i[0]!=j[0]:\n",
    "                if j[0] not in l: \n",
    "                    print(i[0],j[0])\n",
    "                    l.append(i[0])\n",
    "        \n",
    "\n",
    "                    \n",
    "amicable_numbers(100,10000)\n",
    "\n",
    "    \n",
    "    "
   ]
  },
  {
   "cell_type": "markdown",
   "id": "a67d6c72",
   "metadata": {},
   "source": [
    "### 12. Write a program which can filter odd numbers in a list by using filter function"
   ]
  },
  {
   "cell_type": "code",
   "execution_count": 187,
   "id": "8c9241cb",
   "metadata": {},
   "outputs": [
    {
     "data": {
      "text/plain": [
       "[1, 3, 5, 7, 9]"
      ]
     },
     "execution_count": 187,
     "metadata": {},
     "output_type": "execute_result"
    }
   ],
   "source": [
    "def filter_odd(l):\n",
    "    r= list(filter(lambda i : i%2!=0,l))\n",
    "    return r\n",
    "\n",
    "filter_odd([1,2,3,4,5,6,7,8,9])"
   ]
  },
  {
   "cell_type": "markdown",
   "id": "25a15d7d",
   "metadata": {},
   "source": [
    "### 13. Write a program which can map() to make a list whose elements are cube of elements in a givelist"
   ]
  },
  {
   "cell_type": "code",
   "execution_count": 188,
   "id": "d3ec3a95",
   "metadata": {},
   "outputs": [
    {
     "data": {
      "text/plain": [
       "[1, 8, 27, 64, 125, 216, 343, 512, 729]"
      ]
     },
     "execution_count": 188,
     "metadata": {},
     "output_type": "execute_result"
    }
   ],
   "source": [
    "def cube_of_list(l):\n",
    "    r=list(map(lambda i: i**3,l))\n",
    "    return r\n",
    "\n",
    "cube_of_list([1,2,3,4,5,6,7,8,9])"
   ]
  },
  {
   "cell_type": "markdown",
   "id": "e3815b41",
   "metadata": {},
   "source": [
    "### 14. Write a program which can map() and filter() to make a list whose elements are cube of even number in a given list"
   ]
  },
  {
   "cell_type": "code",
   "execution_count": 170,
   "id": "3e2a3e9c",
   "metadata": {},
   "outputs": [
    {
     "data": {
      "text/plain": [
       "[8, 64, 216, 512]"
      ]
     },
     "execution_count": 170,
     "metadata": {},
     "output_type": "execute_result"
    }
   ],
   "source": [
    "def cube_of_even(l):\n",
    "    r=list(map(lambda i: i**3 ,list(filter(lambda i: i%2==0,l))))\n",
    "    return r\n",
    "\n",
    "cube_of_even([1,2,3,4,5,6,7,8,9])"
   ]
  }
 ],
 "metadata": {
  "kernelspec": {
   "display_name": "Python 3",
   "language": "python",
   "name": "python3"
  }
 },
 "nbformat": 4,
 "nbformat_minor": 5
}
